{
 "cells": [
  {
   "cell_type": "markdown",
   "id": "97831db5",
   "metadata": {},
   "source": [
    "\n",
    "# Essential Tools Workshop: pandas, NumPy, matplotlib  \n",
    "**Goal:** Load some data, make a scatter plot, and draw a simple line of best fit.  \n",
    "_Side quest:_ learn just enough pandas/NumPy/matplotlib to be dangerous (and charming).\n"
   ]
  },
  {
   "cell_type": "markdown",
   "id": "1344d669",
   "metadata": {},
   "source": [
    "\n",
    "## Setup\n",
    "We'll import the three musketeers of Python data work:\n",
    "- **pandas** for tables,\n",
    "- **NumPy** for numbers,\n",
    "- **matplotlib** for plots.\n"
   ]
  },
  {
   "cell_type": "code",
   "execution_count": 2,
   "id": "0a7cdd56",
   "metadata": {},
   "outputs": [],
   "source": [
    "\n",
    "# If you're running locally and need to install:\n",
    "# !pip install pandas numpy matplotlib\n",
    "\n",
    "import pandas as pd\n",
    "import numpy as np\n",
    "import matplotlib.pyplot as plt\n",
    "\n",
    "# Jupyter nicety so plots show up below each cell\n",
    "%matplotlib inline\n"
   ]
  },
  {
   "cell_type": "markdown",
   "id": "1c28091d",
   "metadata": {},
   "source": [
    "\n",
    "## Step 1. Get some data (two options)\n",
    "We'll create a small CSV (so nobody has to download anything) **and** show how to read it.\n",
    "\n",
    "**Columns:**\n",
    "- `hours_studied` (x)\n",
    "- `exam_score` (y)\n"
   ]
  },
  {
   "cell_type": "code",
   "execution_count": 3,
   "id": "d2b7999f",
   "metadata": {},
   "outputs": [
    {
     "name": "stdout",
     "output_type": "stream",
     "text": [
      "Wrote data/study_scores.csv with 30 rows\n"
     ]
    },
    {
     "data": {
      "text/html": [
       "<div>\n",
       "<style scoped>\n",
       "    .dataframe tbody tr th:only-of-type {\n",
       "        vertical-align: middle;\n",
       "    }\n",
       "\n",
       "    .dataframe tbody tr th {\n",
       "        vertical-align: top;\n",
       "    }\n",
       "\n",
       "    .dataframe thead th {\n",
       "        text-align: right;\n",
       "    }\n",
       "</style>\n",
       "<table border=\"1\" class=\"dataframe\">\n",
       "  <thead>\n",
       "    <tr style=\"text-align: right;\">\n",
       "      <th></th>\n",
       "      <th>hours_studied</th>\n",
       "      <th>exam_score</th>\n",
       "    </tr>\n",
       "  </thead>\n",
       "  <tbody>\n",
       "    <tr>\n",
       "      <th>0</th>\n",
       "      <td>0.00</td>\n",
       "      <td>50.01</td>\n",
       "    </tr>\n",
       "    <tr>\n",
       "      <th>1</th>\n",
       "      <td>0.34</td>\n",
       "      <td>53.22</td>\n",
       "    </tr>\n",
       "    <tr>\n",
       "      <th>2</th>\n",
       "      <td>0.69</td>\n",
       "      <td>52.08</td>\n",
       "    </tr>\n",
       "    <tr>\n",
       "      <th>3</th>\n",
       "      <td>1.03</td>\n",
       "      <td>50.72</td>\n",
       "    </tr>\n",
       "    <tr>\n",
       "      <th>4</th>\n",
       "      <td>1.38</td>\n",
       "      <td>54.62</td>\n",
       "    </tr>\n",
       "  </tbody>\n",
       "</table>\n",
       "</div>"
      ],
      "text/plain": [
       "   hours_studied  exam_score\n",
       "0           0.00       50.01\n",
       "1           0.34       53.22\n",
       "2           0.69       52.08\n",
       "3           1.03       50.72\n",
       "4           1.38       54.62"
      ]
     },
     "execution_count": 3,
     "metadata": {},
     "output_type": "execute_result"
    }
   ],
   "source": [
    "\n",
    "import os\n",
    "\n",
    "# Create a tiny dataset (a little noise keeps it real)\n",
    "rng = np.random.default_rng(7)\n",
    "hours = np.linspace(0, 10, 30)\n",
    "scores = 50 + 5*hours + rng.normal(0, 5, size=hours.size)\n",
    "\n",
    "demo = pd.DataFrame({\n",
    "    \"hours_studied\": hours.round(2),\n",
    "    \"exam_score\": scores.round(2)\n",
    "})\n",
    "\n",
    "print(\"Wrote data/study_scores.csv with\", len(demo), \"rows\")\n",
    "demo.head()\n"
   ]
  },
  {
   "cell_type": "markdown",
   "id": "99dd6c59",
   "metadata": {},
   "source": [
    "\n",
    "## Step 2. pandas 101 (reading, peeking, selecting)\n",
    "pandas turns your CSV into a **DataFrame** (a table with superpowers).\n"
   ]
  },
  {
   "cell_type": "code",
   "execution_count": 4,
   "id": "dc797d16",
   "metadata": {},
   "outputs": [
    {
     "data": {
      "text/html": [
       "<div>\n",
       "<style scoped>\n",
       "    .dataframe tbody tr th:only-of-type {\n",
       "        vertical-align: middle;\n",
       "    }\n",
       "\n",
       "    .dataframe tbody tr th {\n",
       "        vertical-align: top;\n",
       "    }\n",
       "\n",
       "    .dataframe thead th {\n",
       "        text-align: right;\n",
       "    }\n",
       "</style>\n",
       "<table border=\"1\" class=\"dataframe\">\n",
       "  <thead>\n",
       "    <tr style=\"text-align: right;\">\n",
       "      <th></th>\n",
       "      <th>hours_studied</th>\n",
       "      <th>exam_score</th>\n",
       "    </tr>\n",
       "  </thead>\n",
       "  <tbody>\n",
       "    <tr>\n",
       "      <th>0</th>\n",
       "      <td>0.00</td>\n",
       "      <td>50.01</td>\n",
       "    </tr>\n",
       "    <tr>\n",
       "      <th>1</th>\n",
       "      <td>0.34</td>\n",
       "      <td>53.22</td>\n",
       "    </tr>\n",
       "    <tr>\n",
       "      <th>2</th>\n",
       "      <td>0.69</td>\n",
       "      <td>52.08</td>\n",
       "    </tr>\n",
       "    <tr>\n",
       "      <th>3</th>\n",
       "      <td>1.03</td>\n",
       "      <td>50.72</td>\n",
       "    </tr>\n",
       "    <tr>\n",
       "      <th>4</th>\n",
       "      <td>1.38</td>\n",
       "      <td>54.62</td>\n",
       "    </tr>\n",
       "  </tbody>\n",
       "</table>\n",
       "</div>"
      ],
      "text/plain": [
       "   hours_studied  exam_score\n",
       "0           0.00       50.01\n",
       "1           0.34       53.22\n",
       "2           0.69       52.08\n",
       "3           1.03       50.72\n",
       "4           1.38       54.62"
      ]
     },
     "metadata": {},
     "output_type": "display_data"
    },
    {
     "data": {
      "text/html": [
       "<div>\n",
       "<style scoped>\n",
       "    .dataframe tbody tr th:only-of-type {\n",
       "        vertical-align: middle;\n",
       "    }\n",
       "\n",
       "    .dataframe tbody tr th {\n",
       "        vertical-align: top;\n",
       "    }\n",
       "\n",
       "    .dataframe thead th {\n",
       "        text-align: right;\n",
       "    }\n",
       "</style>\n",
       "<table border=\"1\" class=\"dataframe\">\n",
       "  <thead>\n",
       "    <tr style=\"text-align: right;\">\n",
       "      <th></th>\n",
       "      <th>hours_studied</th>\n",
       "      <th>exam_score</th>\n",
       "    </tr>\n",
       "  </thead>\n",
       "  <tbody>\n",
       "    <tr>\n",
       "      <th>27</th>\n",
       "      <td>9.31</td>\n",
       "      <td>93.86</td>\n",
       "    </tr>\n",
       "    <tr>\n",
       "      <th>28</th>\n",
       "      <td>9.66</td>\n",
       "      <td>98.03</td>\n",
       "    </tr>\n",
       "    <tr>\n",
       "      <th>29</th>\n",
       "      <td>10.00</td>\n",
       "      <td>100.57</td>\n",
       "    </tr>\n",
       "  </tbody>\n",
       "</table>\n",
       "</div>"
      ],
      "text/plain": [
       "    hours_studied  exam_score\n",
       "27           9.31       93.86\n",
       "28           9.66       98.03\n",
       "29          10.00      100.57"
      ]
     },
     "metadata": {},
     "output_type": "display_data"
    },
    {
     "data": {
      "text/html": [
       "<div>\n",
       "<style scoped>\n",
       "    .dataframe tbody tr th:only-of-type {\n",
       "        vertical-align: middle;\n",
       "    }\n",
       "\n",
       "    .dataframe tbody tr th {\n",
       "        vertical-align: top;\n",
       "    }\n",
       "\n",
       "    .dataframe thead th {\n",
       "        text-align: right;\n",
       "    }\n",
       "</style>\n",
       "<table border=\"1\" class=\"dataframe\">\n",
       "  <thead>\n",
       "    <tr style=\"text-align: right;\">\n",
       "      <th></th>\n",
       "      <th>hours_studied</th>\n",
       "      <th>exam_score</th>\n",
       "    </tr>\n",
       "  </thead>\n",
       "  <tbody>\n",
       "    <tr>\n",
       "      <th>26</th>\n",
       "      <td>8.97</td>\n",
       "      <td>82.24</td>\n",
       "    </tr>\n",
       "    <tr>\n",
       "      <th>24</th>\n",
       "      <td>8.28</td>\n",
       "      <td>92.16</td>\n",
       "    </tr>\n",
       "    <tr>\n",
       "      <th>0</th>\n",
       "      <td>0.00</td>\n",
       "      <td>50.01</td>\n",
       "    </tr>\n",
       "    <tr>\n",
       "      <th>9</th>\n",
       "      <td>3.10</td>\n",
       "      <td>62.41</td>\n",
       "    </tr>\n",
       "    <tr>\n",
       "      <th>2</th>\n",
       "      <td>0.69</td>\n",
       "      <td>52.08</td>\n",
       "    </tr>\n",
       "  </tbody>\n",
       "</table>\n",
       "</div>"
      ],
      "text/plain": [
       "    hours_studied  exam_score\n",
       "26           8.97       82.24\n",
       "24           8.28       92.16\n",
       "0            0.00       50.01\n",
       "9            3.10       62.41\n",
       "2            0.69       52.08"
      ]
     },
     "metadata": {},
     "output_type": "display_data"
    },
    {
     "name": "stdout",
     "output_type": "stream",
     "text": [
      "<class 'pandas.core.frame.DataFrame'>\n",
      "RangeIndex: 30 entries, 0 to 29\n",
      "Data columns (total 2 columns):\n",
      " #   Column         Non-Null Count  Dtype  \n",
      "---  ------         --------------  -----  \n",
      " 0   hours_studied  30 non-null     float64\n",
      " 1   exam_score     30 non-null     float64\n",
      "dtypes: float64(2)\n",
      "memory usage: 612.0 bytes\n"
     ]
    },
    {
     "data": {
      "text/plain": [
       "None"
      ]
     },
     "metadata": {},
     "output_type": "display_data"
    },
    {
     "data": {
      "text/html": [
       "<div>\n",
       "<style scoped>\n",
       "    .dataframe tbody tr th:only-of-type {\n",
       "        vertical-align: middle;\n",
       "    }\n",
       "\n",
       "    .dataframe tbody tr th {\n",
       "        vertical-align: top;\n",
       "    }\n",
       "\n",
       "    .dataframe thead th {\n",
       "        text-align: right;\n",
       "    }\n",
       "</style>\n",
       "<table border=\"1\" class=\"dataframe\">\n",
       "  <thead>\n",
       "    <tr style=\"text-align: right;\">\n",
       "      <th></th>\n",
       "      <th>hours_studied</th>\n",
       "      <th>exam_score</th>\n",
       "    </tr>\n",
       "  </thead>\n",
       "  <tbody>\n",
       "    <tr>\n",
       "      <th>count</th>\n",
       "      <td>30.00000</td>\n",
       "      <td>30.000000</td>\n",
       "    </tr>\n",
       "    <tr>\n",
       "      <th>mean</th>\n",
       "      <td>5.00000</td>\n",
       "      <td>72.929333</td>\n",
       "    </tr>\n",
       "    <tr>\n",
       "      <th>std</th>\n",
       "      <td>3.03703</td>\n",
       "      <td>14.734045</td>\n",
       "    </tr>\n",
       "    <tr>\n",
       "      <th>min</th>\n",
       "      <td>0.00000</td>\n",
       "      <td>50.010000</td>\n",
       "    </tr>\n",
       "    <tr>\n",
       "      <th>25%</th>\n",
       "      <td>2.49750</td>\n",
       "      <td>61.600000</td>\n",
       "    </tr>\n",
       "    <tr>\n",
       "      <th>50%</th>\n",
       "      <td>5.00000</td>\n",
       "      <td>71.375000</td>\n",
       "    </tr>\n",
       "    <tr>\n",
       "      <th>75%</th>\n",
       "      <td>7.50250</td>\n",
       "      <td>82.077500</td>\n",
       "    </tr>\n",
       "    <tr>\n",
       "      <th>max</th>\n",
       "      <td>10.00000</td>\n",
       "      <td>100.570000</td>\n",
       "    </tr>\n",
       "  </tbody>\n",
       "</table>\n",
       "</div>"
      ],
      "text/plain": [
       "       hours_studied  exam_score\n",
       "count       30.00000   30.000000\n",
       "mean         5.00000   72.929333\n",
       "std          3.03703   14.734045\n",
       "min          0.00000   50.010000\n",
       "25%          2.49750   61.600000\n",
       "50%          5.00000   71.375000\n",
       "75%          7.50250   82.077500\n",
       "max         10.00000  100.570000"
      ]
     },
     "metadata": {},
     "output_type": "display_data"
    }
   ],
   "source": [
    "\n",
    "# Read the CSV\n",
    "df = demo  # replace with pd.read_csv(\"data/study_scores.csv\") if needed\n",
    "\n",
    "# Quick peeks\n",
    "display(df.head())          # first five rows\n",
    "display(df.tail(3))         # last three rows\n",
    "display(df.sample(5))       # a random sample\n",
    "\n",
    "# Structure & summary\n",
    "display(df.info())          # column names + types + missing values\n",
    "display(df.describe())      # basic stats (mean, std, min, max, quartiles)\n"
   ]
  },
  {
   "cell_type": "markdown",
   "id": "96db8374",
   "metadata": {},
   "source": [
    "\n",
    "### Selecting columns & rows\n",
    "- Column(s): `df[\"col\"]` or `df[[\"col1\",\"col2\"]]`  \n",
    "- Row filter: boolean masks like `df[df[\"hours_studied\"] > 5]`\n"
   ]
  },
  {
   "cell_type": "code",
   "execution_count": 5,
   "id": "2877ddab",
   "metadata": {},
   "outputs": [
    {
     "data": {
      "text/html": [
       "<div>\n",
       "<style scoped>\n",
       "    .dataframe tbody tr th:only-of-type {\n",
       "        vertical-align: middle;\n",
       "    }\n",
       "\n",
       "    .dataframe tbody tr th {\n",
       "        vertical-align: top;\n",
       "    }\n",
       "\n",
       "    .dataframe thead th {\n",
       "        text-align: right;\n",
       "    }\n",
       "</style>\n",
       "<table border=\"1\" class=\"dataframe\">\n",
       "  <thead>\n",
       "    <tr style=\"text-align: right;\">\n",
       "      <th></th>\n",
       "      <th>hours_studied</th>\n",
       "      <th>exam_score</th>\n",
       "    </tr>\n",
       "  </thead>\n",
       "  <tbody>\n",
       "    <tr>\n",
       "      <th>15</th>\n",
       "      <td>5.17</td>\n",
       "      <td>79.34</td>\n",
       "    </tr>\n",
       "    <tr>\n",
       "      <th>16</th>\n",
       "      <td>5.52</td>\n",
       "      <td>70.87</td>\n",
       "    </tr>\n",
       "    <tr>\n",
       "      <th>17</th>\n",
       "      <td>5.86</td>\n",
       "      <td>77.02</td>\n",
       "    </tr>\n",
       "    <tr>\n",
       "      <th>18</th>\n",
       "      <td>6.21</td>\n",
       "      <td>71.53</td>\n",
       "    </tr>\n",
       "    <tr>\n",
       "      <th>19</th>\n",
       "      <td>6.55</td>\n",
       "      <td>76.31</td>\n",
       "    </tr>\n",
       "  </tbody>\n",
       "</table>\n",
       "</div>"
      ],
      "text/plain": [
       "    hours_studied  exam_score\n",
       "15           5.17       79.34\n",
       "16           5.52       70.87\n",
       "17           5.86       77.02\n",
       "18           6.21       71.53\n",
       "19           6.55       76.31"
      ]
     },
     "metadata": {},
     "output_type": "display_data"
    }
   ],
   "source": [
    "\n",
    "x = df[\"hours_studied\"]            # a pandas Series\n",
    "y = df[\"exam_score\"]               # another Series\n",
    "\n",
    "over_5 = df[df[\"hours_studied\"] > 5]\n",
    "display(over_5.head())\n"
   ]
  },
  {
   "cell_type": "markdown",
   "id": "2ea575c7",
   "metadata": {},
   "source": [
    "\n",
    "# Step 3. Cleaning basics (a tiny taste)\n",
    "Real data is messy. A few handy moves:\n",
    "- `dropna()` to remove missing values\n",
    "- `fillna(value)` to fill them\n",
    "- `rename(columns={...})` to tidy names\n",
    "- type conversions: `df[\"col\"].astype(float)`\n"
   ]
  },
  {
   "cell_type": "code",
   "execution_count": 6,
   "id": "20e4c357",
   "metadata": {},
   "outputs": [
    {
     "data": {
      "text/html": [
       "<div>\n",
       "<style scoped>\n",
       "    .dataframe tbody tr th:only-of-type {\n",
       "        vertical-align: middle;\n",
       "    }\n",
       "\n",
       "    .dataframe tbody tr th {\n",
       "        vertical-align: top;\n",
       "    }\n",
       "\n",
       "    .dataframe thead th {\n",
       "        text-align: right;\n",
       "    }\n",
       "</style>\n",
       "<table border=\"1\" class=\"dataframe\">\n",
       "  <thead>\n",
       "    <tr style=\"text-align: right;\">\n",
       "      <th></th>\n",
       "      <th>hours</th>\n",
       "      <th>score</th>\n",
       "    </tr>\n",
       "  </thead>\n",
       "  <tbody>\n",
       "    <tr>\n",
       "      <th>0</th>\n",
       "      <td>0.00</td>\n",
       "      <td>50.01</td>\n",
       "    </tr>\n",
       "    <tr>\n",
       "      <th>1</th>\n",
       "      <td>0.34</td>\n",
       "      <td>53.22</td>\n",
       "    </tr>\n",
       "    <tr>\n",
       "      <th>2</th>\n",
       "      <td>0.69</td>\n",
       "      <td>52.08</td>\n",
       "    </tr>\n",
       "    <tr>\n",
       "      <th>3</th>\n",
       "      <td>1.03</td>\n",
       "      <td>50.72</td>\n",
       "    </tr>\n",
       "    <tr>\n",
       "      <th>4</th>\n",
       "      <td>1.38</td>\n",
       "      <td>54.62</td>\n",
       "    </tr>\n",
       "  </tbody>\n",
       "</table>\n",
       "</div>"
      ],
      "text/plain": [
       "   hours  score\n",
       "0   0.00  50.01\n",
       "1   0.34  53.22\n",
       "2   0.69  52.08\n",
       "3   1.03  50.72\n",
       "4   1.38  54.62"
      ]
     },
     "metadata": {},
     "output_type": "display_data"
    }
   ],
   "source": [
    "\n",
    "# (Our toy data is already clean, but here's the pattern.)\n",
    "df_clean = (\n",
    "    df\n",
    "    .dropna()\n",
    "    .rename(columns={\"hours_studied\": \"hours\", \"exam_score\": \"score\"})\n",
    ")\n",
    "display(df_clean.head())\n"
   ]
  },
  {
   "cell_type": "markdown",
   "id": "333b36dc",
   "metadata": {},
   "source": [
    "\n",
    "## Step 4. NumPy 101 (arrays, simple math)\n",
    "NumPy is great for **numeric operations** and quick math on arrays.\n"
   ]
  },
  {
   "cell_type": "code",
   "execution_count": 7,
   "id": "9efcf5eb",
   "metadata": {},
   "outputs": [
    {
     "name": "stdout",
     "output_type": "stream",
     "text": [
      "hours type: <class 'numpy.ndarray'> shape: (30,)\n",
      "score  mean: 72.93 | std: 14.49\n"
     ]
    },
    {
     "data": {
      "text/plain": [
       "array([-1.67448993, -1.56062461, -1.44341032, -1.329545  , -1.21233071])"
      ]
     },
     "execution_count": 7,
     "metadata": {},
     "output_type": "execute_result"
    }
   ],
   "source": [
    "\n",
    "hours_np = df_clean[\"hours\"].to_numpy()\n",
    "score_np = df_clean[\"score\"].to_numpy()\n",
    "\n",
    "print(\"hours type:\", type(hours_np), \"shape:\", hours_np.shape)\n",
    "print(\"score  mean:\", np.mean(score_np).round(2), \"| std:\", np.std(score_np).round(2))\n",
    "\n",
    "# A quick transform example (no need to use it later—just demoing)\n",
    "scaled_hours = (hours_np - hours_np.mean()) / hours_np.std()\n",
    "scaled_hours[:5]\n"
   ]
  },
  {
   "cell_type": "markdown",
   "id": "3522a8ca",
   "metadata": {},
   "source": [
    "\n",
    "## Step 5. matplotlib 101 (scatter plots)\n",
    "Minimal recipe for a scatter plot:\n",
    "1. `plt.figure()` to start a new figure\n",
    "2. `plt.scatter(x, y)` to plot dots\n",
    "3. Labels + title so Future You knows what's going on\n",
    "4. `plt.show()` (shown automatically in notebooks)\n"
   ]
  },
  {
   "cell_type": "code",
   "execution_count": 8,
   "id": "e4e4ad6d",
   "metadata": {},
   "outputs": [
    {
     "data": {
      "image/png": "[encoded data removed]",
      "text/plain": [
       "<Figure size 640x480 with 1 Axes>"
      ]
     },
     "metadata": {},
     "output_type": "display_data"
    }
   ],
   "source": [
    "\n",
    "plt.figure()\n",
    "plt.scatter(df_clean[\"hours\"], df_clean[\"score\"])\n",
    "plt.xlabel(\"Hours studied\")\n",
    "plt.ylabel(\"Exam score\")\n",
    "plt.title(\"Hours vs. Score (scatter)\")\n",
    "plt.grid(True, alpha=0.3)\n",
    "plt.show()\n"
   ]
  },
  {
   "cell_type": "markdown",
   "id": "06591949",
   "metadata": {},
   "source": [
    "\n",
    "## Step 6. A simple line of best fit (with NumPy)\n",
    "We can fit a straight line \\( y = m x + b \\) using `np.polyfit(x, y, 1)`.\n",
    "\n",
    "- `m` = slope (how much the score changes per extra hour)\n",
    "- `b` = intercept (score when hours = 0)\n",
    "\n",
    "We'll plot the line **on top** of the scatter plot.\n"
   ]
  },
  {
   "cell_type": "code",
   "execution_count": 9,
   "id": "3ea5b975",
   "metadata": {},
   "outputs": [
    {
     "name": "stdout",
     "output_type": "stream",
     "text": [
      "slope (m) = 4.664, intercept (b) = 49.611\n"
     ]
    },
    {
     "data": {
      "image/png": "[encoded data removed]",
      "text/plain": [
       "<Figure size 640x480 with 1 Axes>"
      ]
     },
     "metadata": {},
     "output_type": "display_data"
    }
   ],
   "source": [
    "\n",
    "# Fit a first-degree polynomial (a line): y ≈ m*x + b\n",
    "m, b = np.polyfit(df_clean[\"hours\"], df_clean[\"score\"], 1)\n",
    "\n",
    "# Create x-values across the range to draw the line\n",
    "x_line = np.linspace(df_clean[\"hours\"].min(), df_clean[\"hours\"].max(), 100)\n",
    "y_line = m * x_line + b\n",
    "\n",
    "print(f\"slope (m) = {m:.3f}, intercept (b) = {b:.3f}\")\n",
    "\n",
    "plt.figure()\n",
    "plt.scatter(df_clean[\"hours\"], df_clean[\"score\"], label=\"data\")\n",
    "plt.plot(x_line, y_line, label=\"best-fit line\", color=\"red\")\n",
    "plt.xlabel(\"Hours studied\")\n",
    "plt.ylabel(\"Exam score\")\n",
    "plt.title(\"Hours vs. Score with Line of Best Fit\")\n",
    "plt.legend()\n",
    "plt.grid(True, alpha=0.3)\n",
    "plt.show()\n"
   ]
  },
  {
   "cell_type": "markdown",
   "id": "7355a245",
   "metadata": {},
   "source": [
    "\n",
    "## Step 7. Save your work\n",
    "Always nice to keep artifacts:\n",
    "- a cleaned CSV\n",
    "- a plot image\n"
   ]
  },
  {
   "cell_type": "code",
   "execution_count": 12,
   "id": "a5c8ea9c",
   "metadata": {},
   "outputs": [
    {
     "data": {
      "text/plain": [
       "'Saved: outputs/figures/hours_vs_score.png'"
      ]
     },
     "execution_count": 12,
     "metadata": {},
     "output_type": "execute_result"
    },
    {
     "data": {
      "image/png": "[encoded data removed]",
      "text/plain": [
       "<Figure size 640x480 with 1 Axes>"
      ]
     },
     "metadata": {},
     "output_type": "display_data"
    }
   ],
   "source": [
    "\n",
    "import os\n",
    "os.makedirs(\"./outputs/figures\", exist_ok=True)\n",
    "os.makedirs(\"./data/processed\", exist_ok=True)\n",
    "\n",
    "# Save a clean CSV\n",
    "df_clean.to_csv(\"data/processed/study_scores_clean.csv\", index=False)\n",
    "\n",
    "# Recreate & save the plot\n",
    "plt.figure()\n",
    "plt.scatter(df_clean[\"hours\"], df_clean[\"score\"])\n",
    "plt.plot(x_line, y_line)\n",
    "plt.xlabel(\"Hours studied\")\n",
    "plt.ylabel(\"Exam score\")\n",
    "plt.title(\"Hours vs. Score with Line of Best Fit\")\n",
    "plt.grid(True, alpha=0.3)\n",
    "plt.savefig(\"outputs/figures/hours_vs_score.png\", bbox_inches=\"tight\")\n",
    "\"Saved: outputs/figures/hours_vs_score.png\"\n"
   ]
  },
  {
   "cell_type": "markdown",
   "id": "b4206a62",
   "metadata": {},
   "source": [
    "\n",
    "## Step 8. Wrap-up\n",
    "You just:\n",
    "- loaded a CSV with **pandas**,\n",
    "- wrangled a few basics,\n",
    "- did simple math with **NumPy**,\n",
    "- made a scatter plot and best-fit line with **matplotlib** + **NumPy**.\n",
    "\n",
    "Next step in the series: bring data from a **database (SQL)** instead of a single CSV.\n"
   ]
  }
 ],
 "metadata": {
  "kernelspec": {
   "display_name": "venv (3.12.2)",
   "language": "python",
   "name": "python3"
  },
  "language_info": {
   "codemirror_mode": {
    "name": "ipython",
    "version": 3
   },
   "file_extension": ".py",
   "mimetype": "text/x-python",
   "name": "python",
   "nbconvert_exporter": "python",
   "pygments_lexer": "ipython3",
   "version": "3.12.2"
  }
 },
 "nbformat": 4,
 "nbformat_minor": 5
}
